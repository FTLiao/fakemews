{
 "cells": [
  {
   "cell_type": "markdown",
   "metadata": {},
   "source": [
    "# Stance Visualization\n",
    "\n",
    "Reproducing the work from https://github.com/uclmr/fakenewschallenge\n",
    "\n",
    "1. Reproduce the training\n",
    "2. Feed the BoW to t-SNE\n"
   ]
  },
  {
   "cell_type": "code",
   "execution_count": 63,
   "metadata": {},
   "outputs": [
    {
     "name": "stdout",
     "output_type": "stream",
     "text": [
      "The autoreload extension is already loaded. To reload it, use:\n",
      "  %reload_ext autoreload\n"
     ]
    }
   ],
   "source": [
    "# Import relevant packages and modules\n",
    "from util import *\n",
    "import random\n",
    "import keras\n",
    "from sklearn.manifold import TSNE\n",
    "import numpy as np\n",
    "#import pandas as pd\n",
    "import matplotlib.pyplot as plt\n",
    "%matplotlib inline\n",
    "\n",
    "%load_ext autoreload\n",
    "%autoreload 2"
   ]
  },
  {
   "cell_type": "code",
   "execution_count": 58,
   "metadata": {},
   "outputs": [],
   "source": [
    "# Initialise hyperparameters\n",
    "rand_seed = 1\n",
    "lim_unigram = 5000\n",
    "target_size = 4\n",
    "hidden_size = 100\n",
    "train_keep_prob = 0.6\n",
    "l2_alpha = 0.00001\n",
    "learn_rate = 0.01\n",
    "clip_ratio = 5\n",
    "batch_size_train = 500\n",
    "epochs = 90"
   ]
  },
  {
   "cell_type": "code",
   "execution_count": 59,
   "metadata": {},
   "outputs": [],
   "source": [
    "# Set file names\n",
    "file_train_instances = \"../DATA/train_stances..csv\"\n",
    "file_train_bodies = \"../DATA/train_bodies.csv\"\n",
    "file_test_instances = \"../DATA/test_stances_unlabeled.csv\"\n",
    "file_test_bodies = \"../DATA/test_bodies.csv\"\n",
    "file_predictions = 'predictions_test.csv'"
   ]
  },
  {
   "cell_type": "code",
   "execution_count": 60,
   "metadata": {},
   "outputs": [
    {
     "name": "stdout",
     "output_type": "stream",
     "text": [
      "Raw data loaded.... number of data points = 49972\n",
      "Initial setup for training dataset complete....\n",
      "Finished setting up training set. Number of train/dev/test data points = 39977/9995/25413\n"
     ]
    }
   ],
   "source": [
    "dic = load_data(lim_unigram=lim_unigram, random_seed = rand_seed)"
   ]
  },
  {
   "cell_type": "code",
   "execution_count": null,
   "metadata": {},
   "outputs": [],
   "source": [
    "%time\n",
    "X_embedded = TSNE(n_components=2).fit_transform(dic['train_x'])"
   ]
  },
  {
   "cell_type": "code",
   "execution_count": null,
   "metadata": {},
   "outputs": [],
   "source": [
    "plt.scatter(X_embedded[:,0], X_embeded[:,1])"
   ]
  }
 ],
 "metadata": {
  "kernelspec": {
   "display_name": "Python (py3env)",
   "language": "python",
   "name": "py3env"
  },
  "language_info": {
   "codemirror_mode": {
    "name": "ipython",
    "version": 3
   },
   "file_extension": ".py",
   "mimetype": "text/x-python",
   "name": "python",
   "nbconvert_exporter": "python",
   "pygments_lexer": "ipython3",
   "version": "3.6.5"
  }
 },
 "nbformat": 4,
 "nbformat_minor": 2
}
