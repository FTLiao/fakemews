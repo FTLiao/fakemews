{
 "cells": [
  {
   "cell_type": "markdown",
   "metadata": {},
   "source": [
    "# Stance Visualization\n",
    "\n",
    "Reproducing the work from https://github.com/uclmr/fakenewschallenge\n",
    "\n",
    "1. Reproduce the training\n",
    "2. Feed the BoW to t-SNE\n"
   ]
  },
  {
   "cell_type": "code",
   "execution_count": 91,
   "metadata": {},
   "outputs": [
    {
     "name": "stdout",
     "output_type": "stream",
     "text": [
      "The autoreload extension is already loaded. To reload it, use:\n",
      "  %reload_ext autoreload\n"
     ]
    }
   ],
   "source": [
    "# Import relevant packages and modules\n",
    "from util import *\n",
    "import time\n",
    "import random\n",
    "import keras\n",
    "from sklearn.manifold import TSNE\n",
    "import numpy as np\n",
    "#import pandas as pd\n",
    "import matplotlib.pyplot as plt\n",
    "%matplotlib inline\n",
    "\n",
    "%load_ext autoreload\n",
    "%autoreload 2"
   ]
  },
  {
   "cell_type": "code",
   "execution_count": 2,
   "metadata": {},
   "outputs": [],
   "source": [
    "# Initialise hyperparameters\n",
    "rand_seed = 1\n",
    "lim_unigram = 5000\n",
    "target_size = 4\n",
    "hidden_size = 100\n",
    "train_keep_prob = 0.6\n",
    "l2_alpha = 0.00001\n",
    "learn_rate = 0.01\n",
    "clip_ratio = 5\n",
    "batch_size_train = 500\n",
    "epochs = 90"
   ]
  },
  {
   "cell_type": "code",
   "execution_count": 12,
   "metadata": {},
   "outputs": [],
   "source": [
    "# Set file names\n",
    "file_train_instances = \"./data/train_stances.csv\"\n",
    "file_train_bodies = \"./data/train_bodies.csv\"\n",
    "file_test_instances = \"./data/test_stances_unlabeled.csv\"\n",
    "file_test_bodies = \"./data/test_bodies.csv\"\n",
    "file_predictions = 'predictions_test.csv'"
   ]
  },
  {
   "cell_type": "code",
   "execution_count": 16,
   "metadata": {},
   "outputs": [
    {
     "name": "stdout",
     "output_type": "stream",
     "text": [
      "Raw data loaded.... number of data points = 49972\n",
      "Initial setup for training dataset complete....\n",
      "Finished setting up training set. Number of train/dev/test data points = 39977/9995/25413\n"
     ]
    }
   ],
   "source": [
    "dic = load_data(file_train_instances=file_train_instances\n",
    "                ,file_train_bodies=file_train_bodies\n",
    "                ,file_test_instances=file_test_instances\n",
    "                ,file_test_bodies=file_test_bodies\n",
    "                ,lim_unigram=lim_unigram\n",
    "                ,random_seed = rand_seed)"
   ]
  },
  {
   "cell_type": "code",
   "execution_count": 92,
   "metadata": {},
   "outputs": [
    {
     "name": "stdout",
     "output_type": "stream",
     "text": [
      "CPU times: user 6 µs, sys: 0 ns, total: 6 µs\n",
      "Wall time: 12.4 µs\n",
      "Time spent = 71.601273\n"
     ]
    }
   ],
   "source": [
    "start = time.time()\n",
    "t_sne = TSNE(n_components=2)\n",
    "t_sne.set_params(n_components=2, perplexity=70.0, early_exaggeration=12.0\n",
    "               , learning_rate=300.0, n_iter=500, n_iter_without_progress=100\n",
    "               , min_grad_norm=1e-07\n",
    "               , metric='euclidean', init='random', verbose=0\n",
    "               , random_state=None, method='barnes_hut', angle=0.8)\n",
    "npts = 2000\n",
    "X_embedded = dic['train_x'][:npts,:]\n",
    "Y_embedded = dic['train_y'][:npts,:].argmax(axis=1)\n",
    "X_embedded = t_sne.fit_transform(X_embedded)\n",
    "end = time.time()\n",
    "print('Time spent = %f seconds' % (end-start))"
   ]
  },
  {
   "cell_type": "code",
   "execution_count": 93,
   "metadata": {},
   "outputs": [
    {
     "ename": "NameError",
     "evalue": "name 'plt' is not defined",
     "output_type": "error",
     "traceback": [
      "\u001b[0;31m---------------------------------------------------------------------------\u001b[0m",
      "\u001b[0;31mNameError\u001b[0m                                 Traceback (most recent call last)",
      "\u001b[0;32m<ipython-input-93-fd19b4fea9b8>\u001b[0m in \u001b[0;36m<module>\u001b[0;34m()\u001b[0m\n\u001b[0;32m----> 1\u001b[0;31m \u001b[0mplot_tsne_scattering\u001b[0m\u001b[0;34m(\u001b[0m\u001b[0mX_embedded\u001b[0m\u001b[0;34m,\u001b[0m \u001b[0mY_embedded\u001b[0m\u001b[0;34m,\u001b[0m \u001b[0mlabel_ref_rev\u001b[0m\u001b[0;34m)\u001b[0m\u001b[0;34m\u001b[0m\u001b[0m\n\u001b[0m",
      "\u001b[0;32m/global/u1/l/liao/git/fakemews/util.py\u001b[0m in \u001b[0;36mplot_tsne_scattering\u001b[0;34m(X, Y, dic_labels)\u001b[0m\n\u001b[1;32m    372\u001b[0m \u001b[0;31m# Plotting for TSNE scattering plot\u001b[0m\u001b[0;34m\u001b[0m\u001b[0;34m\u001b[0m\u001b[0m\n\u001b[1;32m    373\u001b[0m \u001b[0;32mdef\u001b[0m \u001b[0mplot_tsne_scattering\u001b[0m\u001b[0;34m(\u001b[0m\u001b[0mX\u001b[0m\u001b[0;34m,\u001b[0m \u001b[0mY\u001b[0m\u001b[0;34m,\u001b[0m \u001b[0mdic_labels\u001b[0m\u001b[0;34m)\u001b[0m\u001b[0;34m:\u001b[0m\u001b[0;34m\u001b[0m\u001b[0m\n\u001b[0;32m--> 374\u001b[0;31m     \u001b[0mfig\u001b[0m\u001b[0;34m,\u001b[0m \u001b[0max\u001b[0m \u001b[0;34m=\u001b[0m \u001b[0mplt\u001b[0m\u001b[0;34m.\u001b[0m\u001b[0msubplots\u001b[0m\u001b[0;34m(\u001b[0m\u001b[0mfigsize\u001b[0m\u001b[0;34m=\u001b[0m\u001b[0;34m(\u001b[0m\u001b[0;36m10\u001b[0m\u001b[0;34m,\u001b[0m\u001b[0;36m10\u001b[0m\u001b[0;34m)\u001b[0m\u001b[0;34m)\u001b[0m\u001b[0;34m\u001b[0m\u001b[0m\n\u001b[0m\u001b[1;32m    375\u001b[0m     \u001b[0;31m#fig.figure(figsize=(8,8))\u001b[0m\u001b[0;34m\u001b[0m\u001b[0;34m\u001b[0m\u001b[0m\n\u001b[1;32m    376\u001b[0m     \u001b[0mcolors\u001b[0m \u001b[0;34m=\u001b[0m \u001b[0;34m[\u001b[0m\u001b[0;34m'red'\u001b[0m\u001b[0;34m,\u001b[0m \u001b[0;34m'green'\u001b[0m\u001b[0;34m,\u001b[0m \u001b[0;34m'blue'\u001b[0m\u001b[0;34m,\u001b[0m\u001b[0;34m'black'\u001b[0m\u001b[0;34m]\u001b[0m\u001b[0;34m\u001b[0m\u001b[0m\n",
      "\u001b[0;31mNameError\u001b[0m: name 'plt' is not defined"
     ]
    }
   ],
   "source": [
    "plot_tsne_scattering(X_embedded, Y_embedded, label_ref_rev)"
   ]
  }
 ],
 "metadata": {
  "kernelspec": {
   "display_name": "Python 3",
   "language": "python",
   "name": "debug180313"
  },
  "language_info": {
   "codemirror_mode": {
    "name": "ipython",
    "version": 3
   },
   "file_extension": ".py",
   "mimetype": "text/x-python",
   "name": "python",
   "nbconvert_exporter": "python",
   "pygments_lexer": "ipython3",
   "version": "3.6.1"
  }
 },
 "nbformat": 4,
 "nbformat_minor": 2
}
